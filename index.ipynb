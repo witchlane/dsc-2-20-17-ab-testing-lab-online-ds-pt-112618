{
 "cells": [
  {
   "cell_type": "markdown",
   "metadata": {},
   "source": [
    "# A/B Testing - Lab\n",
    "\n",
    "## Introduction\n",
    "\n",
    "In this lab, you'll go through a sample process of designing an experiment.\n",
    "\n",
    "## Objectives\n",
    "You will be able to:\n",
    "\n",
    "* Design, structure, and run an A/B test\n",
    "\n",
    "\n",
    "## The Scenario\n",
    "\n",
    "You've been tasked with designing an experiment to test whether a new email template will be more effective for your company's marketing team. The current template has a 5% response rate, which has outperformed numerous other templates in the past. As a result of some very poor performance from some of these alternative templates, the company is both excited to test this new design that was developed internally, and nervous about losing sales, if it is not to work out. As a result, they are looking to determine how many individuals they will need to serve the new email template to in order to detect a 1% performance increase (or drop).\n",
    "\n",
    "\n",
    "## Step 1: State the Null Hypothesis, $H_0$"
   ]
  },
  {
   "cell_type": "markdown",
   "metadata": {},
   "source": [
    "State your null hypothesis here (be sure to make it quantitative as before)\n",
    "\n",
    "h_0 : email response rate = 5%"
   ]
  },
  {
   "cell_type": "markdown",
   "metadata": {},
   "source": [
    "## Step 2: State the Alternative Hypothesis, $H_1$"
   ]
  },
  {
   "cell_type": "markdown",
   "metadata": {},
   "source": [
    "State your alternative hypothesis here (be sure to make it quantitative as before)\n",
    "\n",
    "h_1 : email response rate > 5%"
   ]
  },
  {
   "cell_type": "markdown",
   "metadata": {},
   "source": [
    "## Step 3: Define Alpha and Beta\n",
    "\n",
    "Now define what alpha and beta you believe might be appropriate for this scenario.\n",
    "To start, we may arbitrarily set alpha and beta to .01, indicating that we wish to minimally open ourselves up to type I and type II errors. Later, we will be able to adapt these, if sample sizes turn out to be impractically large."
   ]
  },
  {
   "cell_type": "code",
   "execution_count": 1,
   "metadata": {},
   "outputs": [],
   "source": [
    "alpha = .01\n",
    "beta = .01"
   ]
  },
  {
   "cell_type": "markdown",
   "metadata": {},
   "source": [
    "## Step 4: Calculate N\n",
    "\n",
    "Calculating n requires us to know the variance. In this case, we will have a binomial variable (they either respond to the email or don't) and thus the variance, can be calculated with a standard formula: $n\\bullet p\\bullet(1-p)$ however, this also requires knowledge of p, the probability of response from the updated template. After conducting a limited sample however, we can extrapolate more and detemine if we have sufficient evidence or not.\n",
    "\n",
    "\n",
    "...So, after an initial trial of 35 individuals, you have a total of 2 responses. \n",
    "\n",
    "Is this sufficient evidence to refute the null hypothesis stated above?"
   ]
  },
  {
   "cell_type": "code",
   "execution_count": 2,
   "metadata": {},
   "outputs": [],
   "source": [
    "#Your code for testing the null hypothesis here\n",
    "import scipy.stats as st"
   ]
  },
  {
   "cell_type": "code",
   "execution_count": 3,
   "metadata": {},
   "outputs": [
    {
     "data": {
      "text/plain": [
       "1.8857142857142857"
      ]
     },
     "execution_count": 3,
     "metadata": {},
     "output_type": "execute_result"
    }
   ],
   "source": [
    "n = 35\n",
    "p = 2/35\n",
    "var = n * p * (1-p)\n",
    "var"
   ]
  },
  {
   "cell_type": "code",
   "execution_count": 4,
   "metadata": {},
   "outputs": [],
   "source": [
    "def compute_n(alpha, beta, mu_0, mu_1, var1):\n",
    "    z_alpha = st.norm.ppf(alpha)\n",
    "    z_beta = st.norm.ppf(beta)\n",
    "    num = ((z_alpha + z_beta)**2)*var1\n",
    "    den = (mu_1 - mu_0)**2\n",
    "    return num / den"
   ]
  },
  {
   "cell_type": "code",
   "execution_count": 7,
   "metadata": {},
   "outputs": [
    {
     "data": {
      "text/plain": [
       "102052.8664141675"
      ]
     },
     "execution_count": 7,
     "metadata": {},
     "output_type": "execute_result"
    }
   ],
   "source": [
    "alpha = 0.01\n",
    "beta = 0.01\n",
    "mu_0 = .05\n",
    "mu_1 = .07\n",
    "var1 = var\n",
    "compute_n(alpha, beta, mu_0, mu_1, var1)"
   ]
  },
  {
   "cell_type": "markdown",
   "metadata": {},
   "source": [
    "### Your answer here: is there sufficient data to refute the null hypothesis? [Yes/No]\n"
   ]
  },
  {
   "cell_type": "markdown",
   "metadata": {},
   "source": [
    "There would not be sufficient data to reject the null hypothesis due to the fact that the current sample size is 35 respondants and due to our function we see that a sample size of 102,052 respondants is needed to reject the null hypothesis."
   ]
  },
  {
   "cell_type": "markdown",
   "metadata": {},
   "source": [
    "## Experimenting With New Test Designs\n",
    "If we relax alpha and beta to .05, each (opening ourselves up to a higher probability of making type I and type II errors), how much would our required sample size drop?"
   ]
  },
  {
   "cell_type": "code",
   "execution_count": 8,
   "metadata": {},
   "outputs": [
    {
     "data": {
      "text/plain": [
       "51018.81942008495"
      ]
     },
     "execution_count": 8,
     "metadata": {},
     "output_type": "execute_result"
    }
   ],
   "source": [
    "#Your code here\n",
    "alpha = 0.05\n",
    "beta = 0.05\n",
    "mu_0 = .05\n",
    "mu_1 = .07\n",
    "var1 = var\n",
    "compute_n(alpha, beta, mu_0, mu_1, var1)"
   ]
  },
  {
   "cell_type": "markdown",
   "metadata": {},
   "source": [
    "### Your answer here: how much would required sample size drop based on the new formulation?\n"
   ]
  },
  {
   "cell_type": "markdown",
   "metadata": {},
   "source": [
    "A sample size drop of 51,034 respondants would be required if our alpha and beta were relaxed to 0.05 - this is almost a 50% decrease in sample size."
   ]
  },
  {
   "cell_type": "markdown",
   "metadata": {},
   "source": [
    "## Summary\n",
    "\n",
    "In this lab, you practiced designing an intial experiment and then refined the parameters of the experiment based on an initial sample to determine feasability."
   ]
  }
 ],
 "metadata": {
  "kernelspec": {
   "display_name": "learn-env",
   "language": "python",
   "name": "learn-env"
  },
  "language_info": {
   "codemirror_mode": {
    "name": "ipython",
    "version": 3
   },
   "file_extension": ".py",
   "mimetype": "text/x-python",
   "name": "python",
   "nbconvert_exporter": "python",
   "pygments_lexer": "ipython3",
   "version": "3.6.6"
  }
 },
 "nbformat": 4,
 "nbformat_minor": 2
}
